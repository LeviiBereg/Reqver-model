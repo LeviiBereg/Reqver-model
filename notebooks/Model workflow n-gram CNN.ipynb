{
 "cells": [
  {
   "cell_type": "code",
   "execution_count": 1,
   "metadata": {},
   "outputs": [],
   "source": [
    "import re\n",
    "import os\n",
    "import time\n",
    "import h5py\n",
    "import string\n",
    "import pickle\n",
    "import datetime\n",
    "import javalang\n",
    "import numpy as np\n",
    "import pandas as pd\n",
    "import tensorflow as tf\n",
    "import tensorflow_hub as tfh\n",
    "import tensorflow_datasets as tfds\n",
    "from tqdm.notebook import tqdm\n",
    "import matplotlib.pyplot as plt\n",
    "from dpu_utils.mlutils import Vocabulary\n",
    "from bert.tokenization import FullTokenizer\n",
    "from gensim.models import KeyedVectors as word2vec\n",
    "from sklearn.model_selection import train_test_split"
   ]
  },
  {
   "cell_type": "code",
   "execution_count": 2,
   "metadata": {},
   "outputs": [],
   "source": [
    "MODEL_TYPE = 'cnn'"
   ]
  },
  {
   "cell_type": "markdown",
   "metadata": {},
   "source": [
    "# Data acquisition"
   ]
  },
  {
   "cell_type": "code",
   "execution_count": 3,
   "metadata": {},
   "outputs": [],
   "source": [
    "LANGUAGE = \"java\" #\"python\"\n",
    "DATA_PATH = \"../../Data/code2desc\"\n",
    "DATA_FOLDER = f\"{LANGUAGE}/short\"\n",
    "TRAIN_FILE  = f\"{LANGUAGE}_train_0.jsonl\"\n",
    "TEST_FILE   = f\"{LANGUAGE}_test_0.jsonl\"\n",
    "VALID_FILE  = f\"{LANGUAGE}_valid_0.jsonl\"\n",
    "\n",
    "use_cols = [\"code\", \"docstring\"]"
   ]
  },
  {
   "cell_type": "code",
   "execution_count": 4,
   "metadata": {},
   "outputs": [],
   "source": [
    "def read_data(scope, n_splits):\n",
    "    def get_file(scope, split_ind):\n",
    "        return pd.read_json(f\"{DATA_PATH}/{DATA_FOLDER}/{LANGUAGE}_{scope}_{split_ind}.jsonl\", lines=True)[use_cols]\n",
    "    \n",
    "    train_df = get_file(scope, split_ind=0)\n",
    "    for i in range(1, n_splits):\n",
    "        train_df = train_df.append(get_file(scope, split_ind=i), ignore_index=True)\n",
    "    return train_df"
   ]
  },
  {
   "cell_type": "markdown",
   "metadata": {},
   "source": [
    "This TF Hub model uses the implementation of BERT from the TensorFlow Models repository on GitHub at <a href=\"https://github.com/tensorflow/models/tree/master/official/nlp/bert\">tensorflow/models/official/nlp/bert</a>. It uses L=12 hidden layers (i.e., Transformer blocks), a hidden size of H=768, and A=12 attention heads.\n",
    "\n",
    "This model has been pre-trained for English on the Wikipedia and BooksCorpus using the code published on GitHub. Inputs have been \"uncased\", meaning that the text has been lower-cased before tokenization into word pieces, and any accent markers have been stripped. For training, random input masking has been applied independently to word pieces (as in the original BERT paper).\n",
    "\n",
    "All parameters in the module are trainable, and fine-tuning all parameters is the recommended practice."
   ]
  },
  {
   "cell_type": "markdown",
   "metadata": {},
   "source": [
    "### Descriptions embeddings"
   ]
  },
  {
   "cell_type": "code",
   "execution_count": 5,
   "metadata": {},
   "outputs": [],
   "source": [
    "model_url = \"https://tfhub.dev/tensorflow/bert_en_uncased_L-12_H-768_A-12/2\"\n",
    "bert_layer = tfh.KerasLayer(model_url, trainable=False)"
   ]
  },
  {
   "cell_type": "code",
   "execution_count": 6,
   "metadata": {},
   "outputs": [],
   "source": [
    "vocab_file = bert_layer.resolved_object.vocab_file.asset_path.numpy()\n",
    "do_lower_case = bert_layer.resolved_object.do_lower_case.numpy()\n",
    "tokenizer = FullTokenizer(vocab_file, do_lower_case)"
   ]
  },
  {
   "cell_type": "markdown",
   "metadata": {},
   "source": [
    "### Source code embeddings"
   ]
  },
  {
   "cell_type": "code",
   "execution_count": 7,
   "metadata": {},
   "outputs": [],
   "source": [
    "# EMBEDDINGS_FOLDER = \"source-code-embeddings\"\n",
    "# TOKEN_EMBEDDINGS  = \"token_vecs.txt\"\n",
    "# TARGET_EMBEDDINGS = \"target_vecs.txt\"\n",
    "\n",
    "# vectors_text_path = f'{EMBEDDINGS_FOLDER}/{TOKEN_EMBEDDINGS}'\n",
    "# pretrained_sc_emb = word2vec.load_word2vec_format(vectors_text_path, binary=False)"
   ]
  },
  {
   "cell_type": "markdown",
   "metadata": {},
   "source": [
    "# Data preprocessing"
   ]
  },
  {
   "cell_type": "code",
   "execution_count": 5,
   "metadata": {},
   "outputs": [],
   "source": [
    "def cleaning(text):\n",
    "    '''Performs cleaning of text of unwanted symbols, \n",
    "    excessive spaces and transfers to lower-case\n",
    "    '''\n",
    "\n",
    "    # {@link FaultMessageResolver} => link\n",
    "    text = re.sub(r\"\\{?@(\\w+)\\s+\\S+\\}?\", r'\\1', text)\n",
    "    # delete XML tags \n",
    "    text = re.sub(r'<[\\/a-zA-Z]+>', \"\", text)\n",
    "    # remove excessive spaces\n",
    "#     text = re.sub(r'\\s+', \" \", text)\n",
    "    \n",
    "    text = ''.join(character for character in text if character in string.printable)\n",
    "    text = text.lower().strip()\n",
    "\n",
    "    return text"
   ]
  },
  {
   "cell_type": "code",
   "execution_count": 9,
   "metadata": {},
   "outputs": [],
   "source": [
    "def generate_bert_input(text, max_seq_length):\n",
    "    \n",
    "    tokenized_text = [[\"[CLS]\"] + tokenizer.tokenize(seq)[:max_seq_length-2] + [\"[SEP]\"] for seq in text]\n",
    "    input_ids   = [tokenizer.convert_tokens_to_ids(tokens_seq) for tokens_seq in tokenized_text]\n",
    "    input_mask  = [[1] * len(input_seq) for input_seq in input_ids]\n",
    "    segment_ids = [[0] * max_seq_length for _ in range(len(input_ids))]\n",
    "    input_ids = tf.keras.preprocessing.sequence.pad_sequences(input_ids, maxlen=max_seq_length, padding='post', truncating='post')\n",
    "    input_mask = tf.keras.preprocessing.sequence.pad_sequences(input_mask, maxlen=max_seq_length, padding='post', truncating='post')\n",
    "    segment_ids = tf.keras.preprocessing.sequence.pad_sequences(segment_ids, maxlen=max_seq_length, padding='post', truncating='post')\n",
    "\n",
    "    return input_ids, input_mask, segment_ids"
   ]
  },
  {
   "cell_type": "code",
   "execution_count": 10,
   "metadata": {},
   "outputs": [],
   "source": [
    "def check_and_fix_code_validity(train_df):\n",
    "    valid_inds = []\n",
    "    for i,s_code in enumerate(train_df.code):\n",
    "        try:\n",
    "            javalang.parse.parse_member_signature(s_code)\n",
    "            valid_inds.append(True)\n",
    "        except javalang.parser.JavaSyntaxError:\n",
    "            try:\n",
    "                modified_s_code = s_code + '\\n}'\n",
    "                javalang.parse.parse_member_signature(modified_s_code)\n",
    "                valid_inds.append(True)\n",
    "                train_df.code[i] = modified_s_code\n",
    "            except javalang.parser.JavaSyntaxError:\n",
    "                valid_inds.append(False)\n",
    "    return valid_inds\n",
    "\n",
    "def split_java_token(cstr, camel_case=True, split_char='_'):\n",
    "    res_split = []\n",
    "\n",
    "    if camel_case:\n",
    "        res_split = re.sub('([A-Z][a-z]+)', r' \\1', re.sub('([A-Z]+)', r' \\1', cstr)).split()\n",
    "    \n",
    "    if split_char:\n",
    "        char_splt = []\n",
    "        if not camel_case:\n",
    "            res_split = [cstr]\n",
    "        for token in res_split:\n",
    "            char_splt += token.split(split_char)\n",
    "        res_split = char_splt\n",
    "    return [token for token in res_split if len(token) > 0]\n",
    "\n",
    "def tokenize_java_code(cstr, stop_tokens=None):\n",
    "    if not stop_tokens:\n",
    "        stop_tokens = []\n",
    "    return [token for plain_token in javalang.tokenizer.tokenize(cstr)\\\n",
    "            if not plain_token.value in stop_tokens \\\n",
    "            for token in split_java_token(plain_token.value, camel_case=True, split_char='_')]\n",
    "\n",
    "def generate_sc_input(sc_inputs, max_seq_length, max_vocab_size=10000, use_vocab=None):\n",
    "    \n",
    "#     def word_to_index(word):\n",
    "#         word_val = emb_model.vocab.get(word, None)\n",
    "#         word_index = word_val.index if word_val else None\n",
    "#         return word_index\n",
    "    \n",
    "    stop_tokens = {'{', '}', ';', ',', '(', ')', '.'}\n",
    "    input_ids = [tokenize_java_code(sc_input, stop_tokens)[:max_seq_length] \\\n",
    "                    for sc_input in sc_inputs]\n",
    "    \n",
    "    all_ids = [input_ids]\n",
    "    all_tokens = []\n",
    "    for token_list in all_ids:\n",
    "        for lst in token_list:\n",
    "            all_tokens += lst\n",
    "    \n",
    "    if use_vocab:\n",
    "        sc_vocab = use_vocab\n",
    "    else:\n",
    "        sc_vocab = Vocabulary.create_vocabulary(all_tokens,\n",
    "                                                max_size=max_vocab_size,\n",
    "                                                count_threshold=int(len(sc_inputs)*0.00025),\n",
    "                                                add_pad=True)\n",
    "    \n",
    "    input_ids   = [sc_vocab.get_id_or_unk_multiple(sc_input, pad_to_size=max_seq_length) for sc_input in input_ids]\n",
    "    return sc_vocab, input_ids"
   ]
  },
  {
   "cell_type": "code",
   "execution_count": 11,
   "metadata": {},
   "outputs": [],
   "source": [
    "def generate_inputs(scope='train', n_splits=1, use_vocab=None):\n",
    "    pddf = read_data(scope=scope, n_splits=n_splits)\n",
    "    valid_inds = check_and_fix_code_validity(pddf)\n",
    "    pddf = pddf[valid_inds]\n",
    "    pddf.docstring = pddf.docstring.apply(cleaning)\n",
    "    \n",
    "    desc_word_ids, desc_input_mask, desc_segment_ids = generate_bert_input(pddf.docstring, desc_max_seq_length)\n",
    "    sc_vocab, sc_tok_ids = generate_sc_input(pddf.code,\n",
    "                                            sc_max_seq_length,\n",
    "                                            sc_max_vocab_size,\n",
    "                                            use_vocab=use_vocab)\n",
    "    return desc_word_ids, desc_input_mask, desc_segment_ids, sc_tok_ids, pddf, sc_vocab "
   ]
  },
  {
   "cell_type": "code",
   "execution_count": 12,
   "metadata": {},
   "outputs": [],
   "source": [
    "def write_hdf5_data(dataset, dataset_name, data_folder='preprocessed_data'):\n",
    "    with h5py.File(f'{DATA_PATH}/{data_folder}/{MODEL_TYPE}_encoder/{dataset_name}.h5', 'w') as hf:\n",
    "        hf.create_dataset(dataset_name, data=dataset)\n",
    "\n",
    "        \n",
    "def read_hdf5_data(dataset_name, data_folder='preprocessed_data', start_index=0, end_index=-1):\n",
    "    with h5py.File(f'{DATA_PATH}/{data_folder}/{MODEL_TYPE}_encoder/{dataset_name}.h5', \"r\") as f:\n",
    "        dataset = f[dataset_name]\n",
    "        end_index = end_index if end_index > 0 else dataset.size\n",
    "        res = dataset[start_index:end_index]\n",
    "    return res"
   ]
  },
  {
   "cell_type": "code",
   "execution_count": 13,
   "metadata": {},
   "outputs": [],
   "source": [
    "sc_max_seq_length = 180 # train_df.code_tokens.apply(len).quantile(0.9) == 225\n",
    "sc_max_vocab_size = 15000\n",
    "# sc_max_vocab_size = len(pretrained_sc_emb.vocab)\n",
    "\n",
    "desc_max_seq_length = 180 # 0.95 quantile == 178\n",
    "\n",
    "pddf = read_data(scope='train', n_splits=16)\n",
    "valid_inds = check_and_fix_code_validity(pddf)\n",
    "pddf = pddf[valid_inds]\n",
    "pddf.docstring = pddf.docstring.apply(cleaning)\n",
    "\n",
    "desc_word_ids, desc_input_mask, desc_segment_ids = generate_bert_input(pddf.docstring, desc_max_seq_length)"
   ]
  },
  {
   "cell_type": "code",
   "execution_count": 14,
   "metadata": {},
   "outputs": [],
   "source": [
    "write_hdf5_data(desc_word_ids, 'desc_noparam_word_ids')\n",
    "write_hdf5_data(desc_input_mask, 'desc_noparam_input_mask')"
   ]
  },
  {
   "cell_type": "code",
   "execution_count": 15,
   "metadata": {},
   "outputs": [],
   "source": [
    "pddf = read_data(scope='valid', n_splits=1)\n",
    "valid_inds = check_and_fix_code_validity(pddf)\n",
    "pddf = pddf[valid_inds]\n",
    "pddf.docstring = pddf.docstring.apply(cleaning)\n",
    "\n",
    "desc_word_ids, desc_input_mask, desc_segment_ids = generate_bert_input(pddf.docstring, desc_max_seq_length)"
   ]
  },
  {
   "cell_type": "code",
   "execution_count": 16,
   "metadata": {},
   "outputs": [],
   "source": [
    "write_hdf5_data(desc_word_ids, 'v_desc_noparam_word_ids')\n",
    "write_hdf5_data(desc_input_mask, 'v_desc_noparam_input_mask')"
   ]
  },
  {
   "cell_type": "code",
   "execution_count": 45,
   "metadata": {},
   "outputs": [
    {
     "name": "stdout",
     "output_type": "stream",
     "text": [
      "Constructs a {@code LinkedHashMultimap} with the same mappings as the specified multimap. If a\n",
      "key-value mapping appears multiple times in the input multimap, it only appears once in the\n",
      "constructed multimap. The new multimap has the same {@link Multimap#entries()} iteration order\n",
      "as the input multimap, except for excluding duplicate mappings.\n",
      "\n",
      "@param multimap the multimap whose contents are copied to this multimap\n"
     ]
    }
   ],
   "source": [
    "print(pddf1.docstring[ind])"
   ]
  },
  {
   "cell_type": "code",
   "execution_count": 56,
   "metadata": {},
   "outputs": [
    {
     "name": "stdout",
     "output_type": "stream",
     "text": [
      "If {@code nullableReference} is non-null, returns an {@code Optional} instance containing that\n",
      "reference; otherwise returns {@link Optional#absent}.\n",
      "\n",
      "Comparison to {@code java.util.Optional}: this method is equivalent to Java 8's\n",
      "{@code Optional.ofNullable}.\n"
     ]
    }
   ],
   "source": [
    "print(re.sub(r'<[\\/a-zA-Z]+>', \"\", pddf1.docstring[ind]))"
   ]
  },
  {
   "cell_type": "code",
   "execution_count": 50,
   "metadata": {},
   "outputs": [
    {
     "name": "stdout",
     "output_type": "stream",
     "text": [
      "if code is non-null, returns an code instance containing that reference; otherwise returns link#absent}. <p><b>comparison to code.util.optional}:</b> this method is equivalent to java 8's code.ofnullable}.\n"
     ]
    }
   ],
   "source": [
    "ind = 120\n",
    "print(pddf.docstring[ind])"
   ]
  },
  {
   "cell_type": "code",
   "execution_count": 13,
   "metadata": {},
   "outputs": [
    {
     "name": "stdout",
     "output_type": "stream",
     "text": [
      "Train dataset size 30000\n",
      "Validation dataset size 15302\n"
     ]
    }
   ],
   "source": [
    "sc_max_seq_length = 180 # train_df.code_tokens.apply(len).quantile(0.9) == 225\n",
    "sc_max_vocab_size = 15000\n",
    "# sc_max_vocab_size = len(pretrained_sc_emb.vocab)\n",
    "\n",
    "desc_max_seq_length = 180 # 0.95 quantile == 178\n",
    "\n",
    "generate_data_flag = False\n",
    "if generate_data_flag:\n",
    "    \n",
    "    desc_word_ids, desc_input_mask, desc_segment_ids, sc_tok_ids, train_df, sc_vocab = \\\n",
    "                                        generate_inputs(scope='train', n_splits=16, use_vocab=None)\n",
    "    \n",
    "    sc_vocab_size = len(sc_vocab.token_to_id)\n",
    "    print(\"Train dataset size\", len(train_df))\n",
    "    \n",
    "    v_desc_word_ids, v_desc_input_mask, v_desc_segment_ids, v_sc_tok_ids = \\\n",
    "                                        generate_inputs(scope='valid', n_splits=1, use_vocab=sc_vocab)[:-2]\n",
    "    \n",
    "    print(\"Validation dataset size\", len(v_desc_word_ids))\n",
    "#     sc_ids = generate_sc_input(train_df.code_tokens, pretrained_sc_emb, sc_max_seq_length)\n",
    "#     desc_word_ids, desc_input_mask, desc_segment_ids = generate_bert_input(train_df.docstring, desc_max_seq_length)\n",
    "\n",
    "    assert np.all((desc_word_ids > 0).sum(axis=1) == desc_input_mask.sum(axis=1)), 'wrong bert input mask'\n",
    "    assert desc_word_ids.shape == desc_input_mask.shape, 'bert inputs shape mismatch'\n",
    "    assert desc_word_ids.shape == desc_segment_ids.shape, 'bert inputs shape mismatch'\n",
    "    assert len(desc_word_ids) == len(sc_tok_ids), 'nl and sc branches inputs mismatch'\n",
    "    \n",
    "    with open(f\"cs_{MODEL_TYPE}_vocab_{sc_vocab_size}.pkl\", 'wb') as pickle_file:\n",
    "        pickle.dump(sc_vocab, pickle_file)\n",
    "    \n",
    "    write_hdf5_data(sc_tok_ids, 'sc_tok_ids')\n",
    "    write_hdf5_data(desc_word_ids, 'desc_word_ids')\n",
    "    write_hdf5_data(desc_input_mask, 'desc_input_mask')\n",
    "    \n",
    "    write_hdf5_data(v_sc_tok_ids, 'v_sc_tok_ids')\n",
    "    write_hdf5_data(v_desc_word_ids, 'v_desc_word_ids')\n",
    "    write_hdf5_data(v_desc_input_mask, 'v_desc_input_mask')\n",
    "else:\n",
    "    n_samples = 30000\n",
    "    n_val_samples = -1\n",
    "    with open(f\"cs_{MODEL_TYPE}_vocab_11264.pkl\", 'rb') as pickle_file:\n",
    "        sc_vocab = pickle.load(pickle_file)\n",
    "\n",
    "    sc_vocab_size = len(sc_vocab.token_to_id)\n",
    "\n",
    "    sc_tok_ids = read_hdf5_data('sc_tok_ids', end_index=n_samples)\n",
    "    desc_word_ids = read_hdf5_data('desc_word_ids', end_index=n_samples)\n",
    "    desc_input_mask = read_hdf5_data('desc_input_mask', end_index=n_samples)\n",
    "    desc_segment_ids = np.zeros(desc_word_ids.shape, dtype=np.int32)\n",
    "\n",
    "    v_sc_tok_ids = read_hdf5_data('v_sc_tok_ids', end_index=n_val_samples)\n",
    "    v_desc_word_ids = read_hdf5_data('v_desc_word_ids', end_index=n_val_samples)\n",
    "    v_desc_input_mask = read_hdf5_data('v_desc_input_mask', end_index=n_val_samples)\n",
    "    v_desc_segment_ids = np.zeros(v_desc_word_ids.shape, dtype=np.int32)\n",
    "\n",
    "    print(\"Train dataset size\", len(sc_tok_ids))\n",
    "    print(\"Validation dataset size\", len(v_sc_tok_ids))"
   ]
  },
  {
   "cell_type": "markdown",
   "metadata": {},
   "source": [
    "# Model definition"
   ]
  },
  {
   "cell_type": "code",
   "execution_count": 14,
   "metadata": {},
   "outputs": [],
   "source": [
    "dense_units = 400"
   ]
  },
  {
   "cell_type": "markdown",
   "metadata": {},
   "source": [
    "### Description branch"
   ]
  },
  {
   "cell_type": "code",
   "execution_count": 15,
   "metadata": {},
   "outputs": [],
   "source": [
    "input_word_ids = tf.keras.layers.Input(shape=(desc_max_seq_length,), \n",
    "                                       dtype=tf.int32,\n",
    "                                       name=\"desc_input_word_ids\")\n",
    "input_mask  = tf.keras.layers.Input(shape=(desc_max_seq_length,), \n",
    "                                   dtype=tf.int32,\n",
    "                                   name=\"desc_input_mask\")\n",
    "segment_ids = tf.keras.layers.Input(shape=(desc_max_seq_length,), \n",
    "                                    dtype=tf.int32,\n",
    "                                    name=\"desc_segment_ids\")\n",
    "\n",
    "desc_dense = tf.keras.layers.Dense(dense_units, activation='tanh', name=\"desc_dense\")"
   ]
  },
  {
   "cell_type": "code",
   "execution_count": 16,
   "metadata": {},
   "outputs": [],
   "source": [
    "########## Redundant ##########\n",
    "\n",
    "# # @tf.function\n",
    "# def desc_propagate(input_word_ids, input_mask, segment_ids):\n",
    "#     pooled_output, sequence_output = bert_layer([input_word_ids, input_mask, segment_ids])\n",
    "#     desc_output = desc_dense(pooled_output)\n",
    "#     return desc_output"
   ]
  },
  {
   "cell_type": "code",
   "execution_count": 17,
   "metadata": {},
   "outputs": [],
   "source": [
    "########## Redundant ##########\n",
    "\n",
    "# def desc_get_trainable_parameters():\n",
    "#     tr_vars = desc_dense.trainable_variables\n",
    "#     return tr_vars"
   ]
  },
  {
   "cell_type": "markdown",
   "metadata": {},
   "source": [
    "### Source code branch"
   ]
  },
  {
   "cell_type": "code",
   "execution_count": 18,
   "metadata": {},
   "outputs": [],
   "source": [
    "sc_model = 'convolutional' # 'lstm'\n",
    "sc_emb_size = 128\n",
    "sc_dropout_rate = 0.25\n",
    "conv_kernel_sizes = [2,3,5]\n",
    "conv_n_filters = 100"
   ]
  },
  {
   "cell_type": "code",
   "execution_count": 19,
   "metadata": {},
   "outputs": [],
   "source": [
    "sc_input_tok_ids = tf.keras.layers.Input(shape=(sc_max_seq_length,), \n",
    "                                       dtype=tf.int32,\n",
    "                                       name=\"sc_tok_ids\")\n",
    "\n",
    "sc_tok_embedding   = tf.keras.layers.Embedding(sc_vocab_size,\n",
    "                                               sc_emb_size,\n",
    "                                               mask_zero=True,\n",
    "                                               # len(model.vocab), model.vector_size, weights=[model.vectors],\n",
    "                                               name='sc_tok_embedding')\n",
    "\n",
    "# sc_embedding = tf.keras.layers.Embedding(sc_vocab_size,\n",
    "#                                          pretrained_sc_emb.vector_size, \n",
    "#                                          weights=[pretrained_sc_emb.vectors],\n",
    "#                                          mask_zero=True,\n",
    "#                                          trainable=False,\n",
    "#                                          name=\"sc_embedding\") # (vocab_size, vec_size) (1294891, 128)\n",
    "\n",
    "sc_convs = []\n",
    "sc_max_pools = []\n",
    "sc_conv_dropouts = []\n",
    "sc_conv_flatten = tf.keras.layers.Flatten()\n",
    "for kernel_size in conv_kernel_sizes:\n",
    "    sc_convs.append(tf.keras.layers.Conv1D(conv_n_filters, kernel_size, activation='relu', name=f'conv_{kernel_size}'))\n",
    "    sc_max_pools.append(tf.keras.layers.MaxPooling1D(sc_max_seq_length - kernel_size + 1, 1, name=f'max_pool_{kernel_size}'))\n",
    "    sc_conv_dropouts.append(tf.keras.layers.Dropout(sc_dropout_rate, name=f'dropout_{kernel_size}'))\n",
    "\n",
    "sc_dense = tf.keras.layers.Dense(dense_units, activation='tanh', name=\"sc_dense\")"
   ]
  },
  {
   "cell_type": "code",
   "execution_count": 20,
   "metadata": {},
   "outputs": [],
   "source": [
    "########## Redundant ##########\n",
    "\n",
    "# # @tf.function\n",
    "# def sc_propagate(input_sc_ids):\n",
    "#     sc_embedded_input = sc_embedding(input_sc_ids) # (batch_size, sc_max_seq_length, emb_vec_size)\n",
    "#     if sc_model == 'convolutional':\n",
    "#         conv_outputs = []\n",
    "#         for sc_conv, sc_max_pool in zip(sc_convs, sc_max_pools):\n",
    "#             sc_conv_out = sc_conv(sc_embedded_input) \n",
    "#             conv_outputs.append(sc_max_pool(sc_conv_out))\n",
    "#         sc_output = tf.concat(conv_outputs, 2) # (batch_size, 1, n_convs * conv_n_filters)\n",
    "#         sc_output = tf.reshape(sc_output, [-1, len(conv_kernel_sizes) * conv_n_filters]) # (batch_size, n_convs * conv_n_filters)\n",
    "#     elif sc_model == 'lstm':\n",
    "#         sc_output = sc_lstm(sc_embedded_input) #  (batch_size, sc_lstm_units)\n",
    "#     sc_output = sc_dense(sc_output) # (batch_size, dense_units)\n",
    "#     return sc_output"
   ]
  },
  {
   "cell_type": "code",
   "execution_count": 21,
   "metadata": {},
   "outputs": [],
   "source": [
    "########## Redundant ##########\n",
    "\n",
    "# def sc_get_trainable_parameters():\n",
    "#     tr_vars = sc_dense.trainable_variables + sc_embedding.trainable_variables\n",
    "#     if sc_model == 'convolutional':\n",
    "#         for sc_conv in sc_convs:\n",
    "#             tr_vars += sc_conv.trainable_variables\n",
    "#     elif sc_model == 'lstm':\n",
    "#         tr_vars += sc_lstm.trainable_variables\n",
    "#     return tr_vars"
   ]
  },
  {
   "cell_type": "markdown",
   "metadata": {},
   "source": [
    "### Branches junction"
   ]
  },
  {
   "cell_type": "code",
   "execution_count": 22,
   "metadata": {},
   "outputs": [],
   "source": [
    "similarity_mode = 'cosine' # 'cosine' 'dense'"
   ]
  },
  {
   "cell_type": "code",
   "execution_count": 23,
   "metadata": {},
   "outputs": [],
   "source": [
    "########## Redundant ##########\n",
    "\n",
    "# if similarity_mode == 'dense':\n",
    "#     junc_dense = tf.keras.layers.Dense(dense_units, activation='sigmoid', name='junc_dense')\n",
    "#     junc_sim = tf.keras.layers.Dense(1, activation='sigmoid')\n",
    "#     junc_output = tf.keras.layers.Flatten()\n",
    "\n",
    "# # @tf.function\n",
    "# def compute_similarity(desc_output, sc_output, similarity_mode='cosine'):\n",
    "#     if similarity_mode == 'cosine':\n",
    "# #         norm_desc = tf.nn.l2_normalize(desc_output, axis=1, name=\"desc_output_norm\")\n",
    "# #         norm_sc   = tf.nn.l2_normalize(sc_output, axis=1, name=\"sc_output_norm\") + epsilon\n",
    "# #         similarity = tf.reduce_sum(tf.multiply(norm_desc, norm_sc, name=\"b_outputs_dot\"), \n",
    "# #                                        axis=1, \n",
    "# #                                        name=\"cos_similarity\")\n",
    "\n",
    "#         norm_desc = tf.norm(desc_output, axis=-1, keepdims=True) + 1e-10\n",
    "#         norm_sc = tf.norm(sc_output, axis=-1, keepdims=True) + 1e-10\n",
    "#         cosine_similarities = tf.matmul(desc_output / norm_desc,\n",
    "#                                         sc_output / norm_sc,\n",
    "#                                         transpose_a=False,\n",
    "#                                         transpose_b=True,\n",
    "#                                         name='code_query_cooccurrence_logits')  # (batch_size, batch_size)\n",
    "#         similarity_scores = cosine_similarities\n",
    "\n",
    "#         # A max-margin-like loss, but do not penalize negative cosine similarities.\n",
    "#         neg_matrix = tf.linalg.diag(tf.fill(dims=[tf.shape(cosine_similarities)[0]], value=float('-inf')))\n",
    "#         per_sample_loss = tf.maximum(0., loss_margin\n",
    "#                                          - tf.linalg.diag_part(cosine_similarities)\n",
    "#                                          + tf.reduce_max(tf.nn.relu(cosine_similarities + neg_matrix),\n",
    "#                                                          axis=-1))\n",
    "\n",
    "#         per_sample_loss = per_sample_loss * labels\n",
    "#         similarity = tf.reduce_sum(per_sample_loss) / tf.reduce_sum(labels)\n",
    "\n",
    "# #         # extract the logits from the diagonal of the matrix, which are the logits corresponding to the ground-truth\n",
    "# #         correct_scores = tf.linalg.diag_part(similarity_scores)\n",
    "# #         # compute how many queries have bigger logits than the ground truth (the diagonal) -> which will be incorrectly ranked\n",
    "# #         compared_scores = similarity_scores >= tf.expand_dims(correct_scores, axis=-1)\n",
    "# #         # for each row of the matrix (query), sum how many logits are larger than the ground truth\n",
    "# #         # ...then take the reciprocal of that to get the MRR for each individual query (you will need to take the mean later)\n",
    "# #         mrr = 1 / tf.reduce_sum(tf.cast(compared_scores, dtype=tf.float32), axis=1)\n",
    "\n",
    "#     if similarity_mode == 'dense':\n",
    "#         dense_output = junc_dense(tf.multiply(desc_output, sc_output, name=\"b_outputs_dot\"))\n",
    "#         similarity = junc_sim(dense_output)\n",
    "#         similarity = junc_output(similarity)\n",
    "        \n",
    "#     return similarity\n",
    "\n",
    "# def junc_get_trainable_parameters():\n",
    "#     tr_vars = []\n",
    "#     if similarity_mode == 'dense':\n",
    "#         tr_vars += junc_dense.trainable_variables + junc_sim.trainable_variables\n",
    "#     return tr_vars"
   ]
  },
  {
   "cell_type": "markdown",
   "metadata": {},
   "source": [
    "### Full Model"
   ]
  },
  {
   "cell_type": "code",
   "execution_count": 24,
   "metadata": {},
   "outputs": [],
   "source": [
    "pooled_output, sequence_output = bert_layer([input_word_ids, input_mask, segment_ids])\n",
    "desc_output = desc_dense(pooled_output)\n",
    "\n",
    "desc_embedding_model = tf.keras.Model(inputs=[input_word_ids, \n",
    "                                              input_mask, \n",
    "                                              segment_ids], \n",
    "                                      outputs=desc_output,\n",
    "                                      name='desc_embedding_model')"
   ]
  },
  {
   "cell_type": "code",
   "execution_count": 25,
   "metadata": {},
   "outputs": [],
   "source": [
    "sc_embedded_input = sc_tok_embedding(sc_input_tok_ids) # (batch_size, sc_max_seq_length, emb_vec_size)\n",
    "\n",
    "conv_outputs = []\n",
    "for sc_conv, sc_max_pool, sc_dropout in zip(sc_convs, sc_max_pools, sc_conv_dropouts):\n",
    "    sc_conv_out = sc_conv(sc_embedded_input)\n",
    "    sc_conv_out = sc_max_pool(sc_conv_out)\n",
    "    sc_conv_out = sc_dropout(sc_conv_out)\n",
    "    conv_outputs.append(sc_conv_out)\n",
    "sc_output = tf.concat(conv_outputs, 2) # (batch_size, 1, n_convs * conv_n_filters)\n",
    "sc_output = sc_conv_flatten(sc_output) # (batch_size, n_convs * conv_n_filters)\n",
    "sc_output = sc_dense(sc_output)\n",
    "\n",
    "code_embedding_model = tf.keras.Model(inputs=sc_input_tok_ids, \n",
    "                                      outputs=sc_output,\n",
    "                                      name=f'code_{MODEL_TYPE}_embedding_model')"
   ]
  },
  {
   "cell_type": "code",
   "execution_count": 26,
   "metadata": {},
   "outputs": [],
   "source": [
    "norm_desc = tf.norm(desc_output, axis=-1, keepdims=True) + 1e-10\n",
    "norm_sc   = tf.norm(sc_output, axis=-1, keepdims=True)   + 1e-10\n",
    "cos_similarity = tf.matmul(desc_output/norm_desc,\n",
    "                            sc_output/norm_sc,\n",
    "                            transpose_a=False,\n",
    "                            transpose_b=True,\n",
    "                            name='code_query_cooccurrence_logits')  # (batch_size, batch_size)\n",
    "\n",
    "train_model = tf.keras.Model(inputs=[input_word_ids, \n",
    "                                     input_mask, \n",
    "                                     segment_ids, \n",
    "                                     sc_input_tok_ids], \n",
    "                             outputs=cos_similarity,\n",
    "                             name=f'train_{MODEL_TYPE}_model')"
   ]
  },
  {
   "cell_type": "code",
   "execution_count": 27,
   "metadata": {},
   "outputs": [],
   "source": [
    "def cos_loss(dummy, cosine_similarities):\n",
    "    loss_margin = 0.5\n",
    "    neg_matrix = tf.linalg.diag(-tf.linalg.diag_part(cosine_similarities))\n",
    "    per_sample_loss = tf.maximum(1e-6, loss_margin\n",
    "                                     - tf.linalg.diag_part(cosine_similarities)\n",
    "                                     + tf.reduce_mean(tf.nn.relu(cosine_similarities + neg_matrix), axis=-1))\n",
    "\n",
    "    loss = tf.reduce_mean(per_sample_loss)\n",
    "    return loss\n",
    "\n",
    "def mrr(dummy, cosine_similarities):\n",
    "    correct_scores = tf.linalg.diag_part(cosine_similarities)\n",
    "    compared_scores = cosine_similarities >= tf.expand_dims(correct_scores, axis=-1)\n",
    "    mrr = 1 / tf.reduce_sum(tf.cast(compared_scores, dtype=tf.float32), axis=1)\n",
    "    return mrr\n",
    "\n",
    "def frank(dummy, cosine_similarities):\n",
    "    correct_scores = tf.linalg.diag_part(cosine_similarities)\n",
    "    retrieved_before = cosine_similarities > tf.expand_dims(correct_scores, axis=-1)\n",
    "    rel_ranks = tf.reduce_sum(tf.cast(retrieved_before, dtype=tf.float32), axis=1) + 1\n",
    "    return rel_ranks\n",
    "\n",
    "def relevantatk(cosine_similarities, k):\n",
    "    correct_scores = tf.linalg.diag_part(cosine_similarities)\n",
    "    compared_scores = cosine_similarities > tf.expand_dims(correct_scores, axis=-1)\n",
    "    compared_scores = tf.reduce_sum(tf.cast(compared_scores, dtype=tf.float32), axis=1)\n",
    "    compared_scores = tf.cast(compared_scores < k, dtype=tf.float32)\n",
    "    return compared_scores\n",
    "\n",
    "def relevantat10(dummy, cosine_similarities):\n",
    "    return relevantatk(cosine_similarities, k=10)\n",
    "\n",
    "def relevantat5(dummy, cosine_similarities):\n",
    "    return relevantatk(cosine_similarities, k=5)\n",
    "\n",
    "def relevantat1(dummy, cosine_similarities):\n",
    "    return relevantatk(cosine_similarities, k=1)"
   ]
  },
  {
   "cell_type": "code",
   "execution_count": 28,
   "metadata": {},
   "outputs": [],
   "source": [
    "optimizer = 'adam'\n",
    "# optimizer = tf.optimizers.SGD(lr=0.01, decay=1e-6, momentum=0.9, nesterov=True)\n",
    "\n",
    "current_time = datetime.datetime.now().strftime(\"%Y%m%d-%H%M%S\")\n",
    "log_dir = os.path.join(\"logs\",\"fit\",MODEL_TYPE,current_time)\n",
    "tb_callback = tf.keras.callbacks.TensorBoard(log_dir=log_dir)\n",
    "\n",
    "# Include the epoch in the file name (uses `str.format`)\n",
    "checkpoint_path = f\"./model_checkpoints/{MODEL_TYPE}/cp.ckpt\"\n",
    "\n",
    "# Create a callback that saves the model's weights every 5 epochs\n",
    "cp_callback = tf.keras.callbacks.ModelCheckpoint(filepath=checkpoint_path,  \n",
    "                                                 save_best_only=True, \n",
    "                                                 save_weights_only=True,\n",
    "                                                 monitor='val_mrr', \n",
    "                                                 mode='max')\n",
    "\n",
    "train_model.compile(loss=cos_loss, optimizer=optimizer, metrics=[mrr])\n",
    "code_embedding_model.compile(loss=cos_loss, optimizer=optimizer)\n",
    "desc_embedding_model.compile(loss=cos_loss, optimizer=optimizer)"
   ]
  },
  {
   "cell_type": "code",
   "execution_count": 29,
   "metadata": {
    "scrolled": true
   },
   "outputs": [
    {
     "name": "stdout",
     "output_type": "stream",
     "text": [
      "Model: \"train_cnn_model\"\n",
      "__________________________________________________________________________________________________\n",
      "Layer (type)                    Output Shape         Param #     Connected to                     \n",
      "==================================================================================================\n",
      "sc_tok_ids (InputLayer)         [(None, 180)]        0                                            \n",
      "__________________________________________________________________________________________________\n",
      "sc_tok_embedding (Embedding)    (None, 180, 128)     1441792     sc_tok_ids[0][0]                 \n",
      "__________________________________________________________________________________________________\n",
      "conv_2 (Conv1D)                 (None, 179, 100)     25700       sc_tok_embedding[0][0]           \n",
      "__________________________________________________________________________________________________\n",
      "conv_3 (Conv1D)                 (None, 178, 100)     38500       sc_tok_embedding[0][0]           \n",
      "__________________________________________________________________________________________________\n",
      "conv_5 (Conv1D)                 (None, 176, 100)     64100       sc_tok_embedding[0][0]           \n",
      "__________________________________________________________________________________________________\n",
      "max_pool_2 (MaxPooling1D)       (None, 1, 100)       0           conv_2[0][0]                     \n",
      "__________________________________________________________________________________________________\n",
      "max_pool_3 (MaxPooling1D)       (None, 1, 100)       0           conv_3[0][0]                     \n",
      "__________________________________________________________________________________________________\n",
      "max_pool_5 (MaxPooling1D)       (None, 1, 100)       0           conv_5[0][0]                     \n",
      "__________________________________________________________________________________________________\n",
      "dropout_2 (Dropout)             (None, 1, 100)       0           max_pool_2[0][0]                 \n",
      "__________________________________________________________________________________________________\n",
      "dropout_3 (Dropout)             (None, 1, 100)       0           max_pool_3[0][0]                 \n",
      "__________________________________________________________________________________________________\n",
      "dropout_5 (Dropout)             (None, 1, 100)       0           max_pool_5[0][0]                 \n",
      "__________________________________________________________________________________________________\n",
      "desc_input_word_ids (InputLayer [(None, 180)]        0                                            \n",
      "__________________________________________________________________________________________________\n",
      "desc_input_mask (InputLayer)    [(None, 180)]        0                                            \n",
      "__________________________________________________________________________________________________\n",
      "desc_segment_ids (InputLayer)   [(None, 180)]        0                                            \n",
      "__________________________________________________________________________________________________\n",
      "tf_op_layer_concat (TensorFlowO [(None, 1, 300)]     0           dropout_2[0][0]                  \n",
      "                                                                 dropout_3[0][0]                  \n",
      "                                                                 dropout_5[0][0]                  \n",
      "__________________________________________________________________________________________________\n",
      "keras_layer (KerasLayer)        [(None, 768), (None, 109482241   desc_input_word_ids[0][0]        \n",
      "                                                                 desc_input_mask[0][0]            \n",
      "                                                                 desc_segment_ids[0][0]           \n",
      "__________________________________________________________________________________________________\n",
      "flatten (Flatten)               (None, 300)          0           tf_op_layer_concat[0][0]         \n",
      "__________________________________________________________________________________________________\n",
      "desc_dense (Dense)              (None, 400)          307600      keras_layer[0][0]                \n",
      "__________________________________________________________________________________________________\n",
      "sc_dense (Dense)                (None, 400)          120400      flatten[0][0]                    \n",
      "__________________________________________________________________________________________________\n",
      "tf_op_layer_norm/mul (TensorFlo [(None, 400)]        0           desc_dense[0][0]                 \n",
      "                                                                 desc_dense[0][0]                 \n",
      "__________________________________________________________________________________________________\n",
      "tf_op_layer_norm_1/mul (TensorF [(None, 400)]        0           sc_dense[0][0]                   \n",
      "                                                                 sc_dense[0][0]                   \n",
      "__________________________________________________________________________________________________\n",
      "tf_op_layer_norm/Sum (TensorFlo [(None, 1)]          0           tf_op_layer_norm/mul[0][0]       \n",
      "__________________________________________________________________________________________________\n",
      "tf_op_layer_norm_1/Sum (TensorF [(None, 1)]          0           tf_op_layer_norm_1/mul[0][0]     \n",
      "__________________________________________________________________________________________________\n",
      "tf_op_layer_norm/Sqrt (TensorFl [(None, 1)]          0           tf_op_layer_norm/Sum[0][0]       \n",
      "__________________________________________________________________________________________________\n",
      "tf_op_layer_norm_1/Sqrt (Tensor [(None, 1)]          0           tf_op_layer_norm_1/Sum[0][0]     \n",
      "__________________________________________________________________________________________________\n",
      "tf_op_layer_add (TensorFlowOpLa [(None, 1)]          0           tf_op_layer_norm/Sqrt[0][0]      \n",
      "__________________________________________________________________________________________________\n",
      "tf_op_layer_add_1 (TensorFlowOp [(None, 1)]          0           tf_op_layer_norm_1/Sqrt[0][0]    \n",
      "__________________________________________________________________________________________________\n",
      "tf_op_layer_truediv (TensorFlow [(None, 400)]        0           desc_dense[0][0]                 \n",
      "                                                                 tf_op_layer_add[0][0]            \n",
      "__________________________________________________________________________________________________\n",
      "tf_op_layer_truediv_1 (TensorFl [(None, 400)]        0           sc_dense[0][0]                   \n",
      "                                                                 tf_op_layer_add_1[0][0]          \n",
      "__________________________________________________________________________________________________\n",
      "tf_op_layer_code_query_cooccurr [(None, None)]       0           tf_op_layer_truediv[0][0]        \n",
      "                                                                 tf_op_layer_truediv_1[0][0]      \n",
      "==================================================================================================\n",
      "Total params: 111,480,333\n",
      "Trainable params: 1,998,092\n",
      "Non-trainable params: 109,482,241\n",
      "__________________________________________________________________________________________________\n"
     ]
    }
   ],
   "source": [
    "train_model.summary()"
   ]
  },
  {
   "cell_type": "markdown",
   "metadata": {},
   "source": [
    "# Model Training"
   ]
  },
  {
   "cell_type": "code",
   "execution_count": 30,
   "metadata": {},
   "outputs": [],
   "source": [
    "########## Redundant ##########\n",
    "\n",
    "# def loss_function(y_true, y_pred, n_negatives):\n",
    "\n",
    "#     loss = loss_func(y_true, y_pred)\n",
    "# #     weight_vector = y_true * tr_weights[0] + (1.-y_true) * tr_weights[1]\n",
    "#     return tf.reduce_mean(loss)# * weight_vector)\n",
    "\n",
    "# def negative_sampling(desc_output, sc_output, n_negatives):\n",
    "#     neg_probs = tf.linalg.set_diag(tf.fill([batch_size, batch_size], 0.5),[0]*batch_size)\n",
    "#     neg_ids   = tf.random.categorical(neg_probs, n_negatives)\n",
    "\n",
    "#     neg_desc = tf.reshape(tf.gather(desc_output, neg_ids), [-1, dense_units])\n",
    "#     neg_sc   = tf.reshape(tf.gather(sc_output, [[i]*n_negatives for i in range(batch_size)]), [-1, dense_units])\n",
    "\n",
    "#     desc_output = tf.concat([desc_output,neg_desc], axis=0)\n",
    "#     sc_output   = tf.concat([sc_output,neg_sc], axis=0)\n",
    "    \n",
    "#     return desc_output, sc_output\n",
    "\n",
    "# @tf.function\n",
    "# def train_step(input_word_ids, input_mask, segment_ids, input_sc_ids, batch_size, n_negatives):\n",
    "\n",
    "#     with tf.GradientTape() as tape:\n",
    "        \n",
    "#         desc_output = desc_propagate(input_word_ids, input_mask, segment_ids)\n",
    "#         sc_output = sc_propagate(input_sc_ids)\n",
    "        \n",
    "# #         desc_output, sc_output = negative_sampling(desc_output, sc_output, n_negatives)\n",
    "#         loss = compute_similarity(desc_output, sc_output, similarity_mode)\n",
    "# #         labels = np.array([1.] * batch_size + [0.] * (batch_size * n_negatives))\n",
    "# #         loss = loss_function(labels, cos_similarity, n_negatives)\n",
    "        \n",
    "#     # Adjust the parameters of the model using the computed gradients\n",
    "#     variables = desc_get_trainable_parameters() + sc_get_trainable_parameters() + junc_get_trainable_parameters()\n",
    "#     gradients = tape.gradient(loss, variables)\n",
    "#     optimizer.apply_gradients(zip(gradients, variables))\n",
    "\n",
    "#     return loss\n",
    "\n",
    "# @tf.function\n",
    "# def validation_step(input_word_ids, input_mask, segment_ids, input_sc_ids, batch_size, n_negatives):\n",
    "\n",
    "#     desc_output = desc_propagate(input_word_ids, input_mask, segment_ids)\n",
    "#     sc_output = sc_propagate(input_sc_ids)\n",
    "\n",
    "# #     desc_output, sc_output = negative_sampling(desc_output, sc_output, n_negatives)\n",
    "#     loss = compute_similarity(desc_output, sc_output, similarity_mode)\n",
    "# #     labels = np.array([1.] * batch_size + [0.] * (batch_size * n_negatives))\n",
    "# #     loss = loss_function(labels, cos_similarity, n_negatives)\n",
    "    \n",
    "#     return loss"
   ]
  },
  {
   "cell_type": "code",
   "execution_count": 31,
   "metadata": {},
   "outputs": [],
   "source": [
    "# splitted_data = train_test_split(desc_word_ids,\n",
    "#                                  desc_input_mask,\n",
    "#                                  desc_segment_ids,\n",
    "#                                  sc_tok_ids)\n",
    "# train_desc_word_ids, v_desc_word_ids = splitted_data[:2]\n",
    "# train_desc_input_mask, v_desc_input_mask = splitted_data[2:4]\n",
    "# train_desc_segment_ids, v_desc_segment_ids = splitted_data[4:6]\n",
    "# train_sc_tok_ids, v_sc_tok_ids = splitted_data[6:8]"
   ]
  },
  {
   "cell_type": "code",
   "execution_count": 32,
   "metadata": {},
   "outputs": [],
   "source": [
    "batch_size = 256\n",
    "valid_batch_size = 50\n",
    "train_samples = len(desc_word_ids) # or change to desc_word_ids\n",
    "valid_samples = len(v_desc_word_ids)\n",
    "train_steps_per_epoch = train_samples // batch_size\n",
    "valid_steps_per_epoch = valid_samples // valid_batch_size\n",
    "epochs = 3\n",
    "\n",
    "########## Redundant ##########\n",
    "\n",
    "# n_negatives = 30\n",
    "# val_n_negatives = 30"
   ]
  },
  {
   "cell_type": "code",
   "execution_count": 33,
   "metadata": {},
   "outputs": [],
   "source": [
    "train_data = tf.data.Dataset.from_tensor_slices(((desc_word_ids, \n",
    "                                                  desc_input_mask, \n",
    "                                                  desc_segment_ids, \n",
    "                                                  sc_tok_ids), \n",
    "                                                 np.ones((len(desc_word_ids),1))))\\\n",
    "                            .shuffle(len(desc_word_ids), reshuffle_each_iteration=True)\\\n",
    "                            .batch(batch_size, drop_remainder=True)\\\n",
    "                            .repeat()\n",
    "valid_data = tf.data.Dataset.from_tensor_slices(((v_desc_word_ids, \n",
    "                                                  v_desc_input_mask, \n",
    "                                                  v_desc_segment_ids, \n",
    "                                                  v_sc_tok_ids), \n",
    "                                                 np.ones((len(v_desc_word_ids),1))))\\\n",
    "                            .shuffle(len(v_desc_word_ids), reshuffle_each_iteration=True)\\\n",
    "                            .batch(valid_batch_size, drop_remainder=True)\\\n",
    "                            .repeat()"
   ]
  },
  {
   "cell_type": "code",
   "execution_count": 35,
   "metadata": {},
   "outputs": [
    {
     "name": "stdout",
     "output_type": "stream",
     "text": [
      "Load model weights: ./model_checkpoints/best_models/cnn/20200529-044753/cp.ckpt\n"
     ]
    }
   ],
   "source": [
    "load_checkpoint_path = f\"./model_checkpoints/best_models/{MODEL_TYPE}/20200529-044753/cp.ckpt\"\n",
    "if load_checkpoint_path: \n",
    "    print(\"Load model weights:\", load_checkpoint_path)\n",
    "    train_model.load_weights(load_checkpoint_path)"
   ]
  },
  {
   "cell_type": "code",
   "execution_count": 36,
   "metadata": {
    "scrolled": true
   },
   "outputs": [],
   "source": [
    "train_flag = False\n",
    "if train_flag:\n",
    "    train_hist = train_model.fit(train_data, \n",
    "                                   epochs=epochs,\n",
    "                                   validation_data=valid_data,\n",
    "                                   callbacks=[tb_callback, cp_callback],\n",
    "                                   steps_per_epoch=train_steps_per_epoch,\n",
    "                                   validation_steps=valid_steps_per_epoch)"
   ]
  },
  {
   "cell_type": "code",
   "execution_count": null,
   "metadata": {},
   "outputs": [],
   "source": [
    "with open(f\"train_history_{current_time}.txt\", 'wb') as f:\n",
    "    pickle.dump(train_hist, f, pickle.HIGHEST_PROTOCOL)"
   ]
  },
  {
   "cell_type": "code",
   "execution_count": 65,
   "metadata": {},
   "outputs": [
    {
     "data": {
      "image/png": "[encoded data removed]",
      "text/plain": [
       "<Figure size 864x576 with 1 Axes>"
      ]
     },
     "metadata": {
      "needs_background": "light"
     },
     "output_type": "display_data"
    }
   ],
   "source": [
    "plt.figure(figsize=(12,8))\n",
    "plt.plot(train_hist.history['loss'], label='Train loss')\n",
    "plt.plot(train_hist.history['val_loss'], label='Valid loss')\n",
    "plt.title('Loss per epoch')\n",
    "plt.xlabel('Epoch')\n",
    "plt.ylabel('Loss')\n",
    "plt.xticks(np.linspace(0, epochs-1, epochs))\n",
    "plt.xlim(0,epochs-1)\n",
    "plt.legend()\n",
    "plt.show()"
   ]
  },
  {
   "cell_type": "code",
   "execution_count": 64,
   "metadata": {},
   "outputs": [
    {
     "data": {
      "image/png": "[encoded data removed]",
      "text/plain": [
       "<Figure size 864x576 with 1 Axes>"
      ]
     },
     "metadata": {
      "needs_background": "light"
     },
     "output_type": "display_data"
    }
   ],
   "source": [
    "plt.figure(figsize=(12,8))\n",
    "plt.plot(train_hist.history['mrr'], label='Train MRR')\n",
    "plt.plot(train_hist.history['val_mrr'], label='Valid MRR')\n",
    "plt.title('Mean Reciprocal Rank per epoch')\n",
    "plt.xticks(np.linspace(0, epochs-1, epochs))\n",
    "plt.xlabel('Epoch')\n",
    "plt.ylabel('MRR')\n",
    "plt.xlim(0,epochs-1)\n",
    "plt.legend()\n",
    "plt.show()"
   ]
  },
  {
   "cell_type": "code",
   "execution_count": 68,
   "metadata": {},
   "outputs": [],
   "source": [
    "train_loss = [1.0027, 1.0013, 1.0010, 1.0008, 1.0007, 1.0007, 1.0006, 1.0006, 1.0005, 1.0005, 1.0005, 1.0005, \n",
    "              1.0005, 1.0004, 1.0004, 1.0004, 1.0004, 1.0004, 1.0004, 1.0004]\n",
    "train_mrr = [0.0223, 0.0246, 0.0281, 0.0306, 0.0322, 0.0335, 0.0348, 0.0360, 0.0370, 0.0379, 0.0387, 0.0398, \n",
    "             0.0405, 0.0409, 0.0417, 0.0425, 0.0431, 0.0436, 0.0441, 0.0446]\n",
    "val_loss = [1.0022, 1.0011, 1.0009, 1.0008, 1.0007, 1.0006, 1.0006, 1.0006, 1.0005, 1.0005, 1.0005, 1.0005, \n",
    "            1.0005, 1.0004, 1.0004, 1.0004, 1.0004, 1.0004, 1.0004, 1.0004]\n",
    "val_mrr = [0.0233, 0.0266, 0.0294, 0.0300, 0.0315, 0.0343, 0.0362, 0.0375, 0.0377, 0.0374, 0.0395, 0.0400, \n",
    "           0.0414, 0.0407, 0.0404, 0.0433, 0.0439, 0.0450, 0.0429, 0.0434]"
   ]
  },
  {
   "cell_type": "code",
   "execution_count": 71,
   "metadata": {},
   "outputs": [
    {
     "data": {
      "image/png": "[encoded data removed]",
      "text/plain": [
       "<Figure size 864x576 with 1 Axes>"
      ]
     },
     "metadata": {
      "needs_background": "light"
     },
     "output_type": "display_data"
    }
   ],
   "source": [
    "epochs = 20\n",
    "plt.figure(figsize=(12,8))\n",
    "plt.plot(train_loss, label='Train loss')\n",
    "plt.plot(val_loss, label='Valid loss')\n",
    "plt.title('Loss per epoch')\n",
    "plt.xlabel('Epoch')\n",
    "plt.ylabel('Loss')\n",
    "plt.xticks(np.linspace(0, epochs-1, epochs))\n",
    "plt.xlim(0,epochs-1)\n",
    "plt.legend()\n",
    "plt.show()"
   ]
  },
  {
   "cell_type": "code",
   "execution_count": 69,
   "metadata": {},
   "outputs": [
    {
     "data": {
      "image/png": "[encoded data removed]",
      "text/plain": [
       "<Figure size 864x576 with 1 Axes>"
      ]
     },
     "metadata": {
      "needs_background": "light"
     },
     "output_type": "display_data"
    }
   ],
   "source": [
    "plt.figure(figsize=(12,8))\n",
    "plt.plot(train_mrr, label='Train MRR')\n",
    "plt.plot(val_mrr, label='Valid MRR')\n",
    "plt.title('Mean Reciprocal Rank per epoch')\n",
    "plt.xticks(np.linspace(0, epochs-1, epochs))\n",
    "plt.xlabel('Epoch')\n",
    "plt.ylabel('MRR')\n",
    "plt.xlim(0,epochs-1)\n",
    "plt.legend()\n",
    "plt.show()"
   ]
  },
  {
   "cell_type": "markdown",
   "metadata": {},
   "source": [
    "# Evaluation"
   ]
  },
  {
   "cell_type": "code",
   "execution_count": 37,
   "metadata": {
    "scrolled": true
   },
   "outputs": [
    {
     "data": {
      "text/plain": [
       "15328"
      ]
     },
     "execution_count": 37,
     "metadata": {},
     "output_type": "execute_result"
    }
   ],
   "source": [
    "test_df = read_data(scope='valid', n_splits=1)\n",
    "len(test_df)"
   ]
  },
  {
   "cell_type": "code",
   "execution_count": 39,
   "metadata": {},
   "outputs": [],
   "source": [
    "train_model.compile(loss=cos_loss, optimizer=optimizer, metrics=[mrr, frank, relevantat1, relevantat5, relevantat10])"
   ]
  },
  {
   "cell_type": "code",
   "execution_count": 40,
   "metadata": {},
   "outputs": [
    {
     "name": "stdout",
     "output_type": "stream",
     "text": [
      "306/306 [==============================] - 289s 945ms/step - loss: 0.1361 - mrr: 0.4291 - frank: 7.3330 - relevantat1: 0.2686 - relevantat5: 0.6153 - relevantat10: 0.7757\n"
     ]
    }
   ],
   "source": [
    "eval_res = train_model.evaluate(valid_data, steps=valid_steps_per_epoch)"
   ]
  },
  {
   "cell_type": "code",
   "execution_count": 41,
   "metadata": {},
   "outputs": [
    {
     "data": {
      "text/plain": [
       "array([0.14, 0.43, 7.33, 0.27, 0.62, 0.78])"
      ]
     },
     "execution_count": 41,
     "metadata": {},
     "output_type": "execute_result"
    }
   ],
   "source": [
    "np.round(eval_res, 2)"
   ]
  },
  {
   "cell_type": "code",
   "execution_count": null,
   "metadata": {},
   "outputs": [],
   "source": [
    "def get_top_related_functions(desc, sc_list, desc_embedding_model, code_embedding_model): \n",
    "    desc_preprocessed = cleaning(desc)\n",
    "    desc_input = generate_bert_input([desc_preprocessed], desc_max_seq_length)\n",
    "    desc_vec = desc_embedding_model.predict(desc_input)\n",
    "    \n",
    "    sc_t_fname_ids, sc_t_api_ids, sc_t_tok_ids = generate_sc_input(sc_list,\n",
    "                                                   sc_max_fname_length,\n",
    "                                                   sc_max_api_length,\n",
    "                                                   sc_max_seq_length,\n",
    "                                                   sc_max_vocab_size,\n",
    "                                                   use_vocab=sc_vocab)[1:]\n",
    "    sc_vec = code_embedding_model.predict((np.array(sc_t_fname_ids), np.array(sc_t_api_ids), np.array(sc_t_tok_ids)))\n",
    "    norm_desc = tf.norm(desc_vec, axis=-1, keepdims=True) + 1e-10\n",
    "    norm_sc   = tf.norm(sc_vec, axis=-1, keepdims=True)   + 1e-10\n",
    "    cos_similarity = tf.matmul(desc_vec/norm_desc,\n",
    "                                sc_vec/norm_sc,\n",
    "                                transpose_a=False,\n",
    "                                transpose_b=True)\n",
    "    top_indexes = np.argsort(-cos_similarity)[0]\n",
    "    return top_indexes, sc_list[top_indexes], cos_similarity.numpy()[0,top_indexes]"
   ]
  },
  {
   "cell_type": "code",
   "execution_count": null,
   "metadata": {},
   "outputs": [],
   "source": [
    "chosen_ind = 35\n",
    "n_samples = 50\n",
    "rand_inds = np.append([chosen_ind], np.random.randint(0, len(test_df), size=n_samples))\n",
    "desc = test_df.docstring[chosen_ind]\n",
    "sc_list = test_df.code[rand_inds].values\n",
    "\n",
    "print(\"Given requirement:\\n\", test_df.docstring[chosen_ind],'\\n')\n",
    "print(\"Expected method: \", chosen_ind, \"\\n\", test_df.code[chosen_ind],'\\n')\n",
    "\n",
    "top_k = 10\n",
    "top_w_sim = get_top_related_functions(desc, sc_list, desc_embedding_model, code_embedding_model)\n",
    "print(f\"Position of ground-truth method in extracted set is {list(top_w_sim[0]).index(chosen_ind)}\\n\")\n",
    "print(\"Predicted methods:\")\n",
    "for ti,jm,sim in zip(*top_w_sim[:top_k]):\n",
    "    print(ti,':',sim)\n",
    "    print(jm)\n",
    "    print('-'*75)"
   ]
  },
  {
   "cell_type": "code",
   "execution_count": 128,
   "metadata": {
    "scrolled": true
   },
   "outputs": [],
   "source": [
    "def evaluate_cos_similarity(desc_text, sc_text):\n",
    "    desc_word_ids, desc_input_mask, desc_segment_ids = generate_bert_input([desc_text], desc_max_seq_length)\n",
    "    sc_ids = generate_sc_input([sc_text], model, sc_max_seq_length)\n",
    "    \n",
    "    res = sim_model.predict((desc_word_ids, desc_input_mask, desc_segment_ids, sc_ids), batch_size=batch_size)\n",
    "\n",
    "    return res\n",
    "\n",
    "def evaluate_cos_similarities(desc_texts, sc_texts):\n",
    "    desc_word_ids, desc_input_mask, desc_segment_ids = generate_bert_input(desc_texts, desc_max_seq_length)\n",
    "    sc_ids = generate_sc_input(sc_texts, model, sc_max_seq_length)\n",
    "    \n",
    "    res = sim_model.predict((desc_word_ids, desc_input_mask, desc_segment_ids, sc_ids), batch_size=batch_size)\n",
    "\n",
    "    return res"
   ]
  },
  {
   "cell_type": "code",
   "execution_count": 186,
   "metadata": {},
   "outputs": [
    {
     "name": "stdout",
     "output_type": "stream",
     "text": [
      "Doc 1: placeholder  dynamic  @param dynamic\n",
      "\n",
      "Doc 2: lists annotated datasets for a dataset. pagination is supported. <p>sample code: <pre><code> try (datalabelingserviceclient datalabelingserviceclient = datalabelingserviceclient.create()) { string formattedparent = datalabelingserviceclient.formatdatasetname(\"[project]\", \"[dataset]\"); string filter = \"\"; for (annotateddataset element : datalabelingserviceclient.listannotateddatasets(formattedparent, filter).iterateall()) { // dothingswith(element); } } </code></pre> @param parent required. name of the dataset to list annotated datasets, format: projects/{project_id}/datasets/{dataset_id} @param filter optional. filter is not supported at this moment. @throws com.google.api.gax.rpc.apiexception if the remote call fails\n",
      "\n",
      "Similaity matrics:\n",
      "[[0.9676776  0.9681637 ]\n",
      " [0.9759587  0.97649354]]\n",
      "[[ True False]\n",
      " [ True  True]]\n"
     ]
    }
   ],
   "source": [
    "rand_sim_ind = np.random.randint(0, len(train_df))\n",
    "rand_dif_ind = np.random.randint(0, len(train_df))\n",
    "print(f\"Doc 1: {train_df.docstring[rand_sim_ind]}\\n\")\n",
    "print(f\"Doc 2: {train_df.docstring[rand_dif_ind]}\\n\")\n",
    "sim_matr = evaluate_cos_similarities(train_df.iloc[[rand_sim_ind, rand_dif_ind]].docstring, \n",
    "                                     train_df.iloc[[rand_sim_ind, rand_dif_ind]].code_tokens)\n",
    "print(f\"Similaity matrics:\\n{sim_matr}\")\n",
    "print(sim_matr >= np.diag(sim_matr))"
   ]
  },
  {
   "cell_type": "code",
   "execution_count": 208,
   "metadata": {
    "scrolled": true
   },
   "outputs": [
    {
     "data": {
      "text/plain": [
       "array([[ True,  True],\n",
       "       [False,  True]])"
      ]
     },
     "execution_count": 208,
     "metadata": {},
     "output_type": "execute_result"
    }
   ],
   "source": [
    "np.greater_equal(sim_matr, np.reshape(np.repeat(np.diag(sim_matr), 2), (2,2)))"
   ]
  }
 ],
 "metadata": {
  "kernelspec": {
   "display_name": "Python 3",
   "language": "python",
   "name": "python3"
  },
  "language_info": {
   "codemirror_mode": {
    "name": "ipython",
    "version": 3
   },
   "file_extension": ".py",
   "mimetype": "text/x-python",
   "name": "python",
   "nbconvert_exporter": "python",
   "pygments_lexer": "ipython3",
   "version": "3.7.0"
  }
 },
 "nbformat": 4,
 "nbformat_minor": 4
}
